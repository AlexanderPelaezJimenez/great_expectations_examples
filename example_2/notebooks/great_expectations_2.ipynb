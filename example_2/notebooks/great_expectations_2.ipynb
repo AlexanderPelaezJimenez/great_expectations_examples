{
 "cells": [
  {
   "cell_type": "code",
   "execution_count": 1,
   "metadata": {},
   "outputs": [],
   "source": [
    "import great_expectations as gx\n",
    "import pandas as pd\n",
    "from datetime import datetime, timedelta"
   ]
  },
  {
   "cell_type": "code",
   "execution_count": 2,
   "metadata": {},
   "outputs": [],
   "source": [
    "# Crear un DataFrame de ejemplo\n",
    "data = {\n",
    "    'patient_id': ['P001', 'P002', 'P003', 'P004', 'P005', 'P001'],\n",
    "    'name': ['John Doe', 'Jane Smith', 'Bob Johnson', 'Alice Brown', 'Charlie Davis', 'John Doe'],\n",
    "    'age': [35, 28, 52, 41, 39, 35],\n",
    "    'gender': ['M', 'F', 'M', 'F', 'M', 'M'],\n",
    "    'blood_type': ['A+', 'B-', 'O+', 'AB+', 'A-', 'A+'],\n",
    "    'admission_date': ['2024-10-01', '2024-10-02', '2024-10-03', '2024-10-04', '2024-10-05', '2024-10-01'],\n",
    "    'diagnosis': ['Hypertension', 'Diabetes', 'Asthma', 'Migraine', 'Arthritis', 'Hypertension'],\n",
    "    'doctor_id': ['D1', 'D2', 'D3', 'D2', 'D1', 'D1']\n",
    "}"
   ]
  },
  {
   "cell_type": "code",
   "execution_count": 3,
   "metadata": {},
   "outputs": [],
   "source": [
    "df = pd.DataFrame(data)\n",
    "df['admission_date'] = pd.to_datetime(df['admission_date'])"
   ]
  },
  {
   "cell_type": "code",
   "execution_count": 18,
   "metadata": {},
   "outputs": [],
   "source": [
    "# Crear el contexto de Great Expectations\n",
    "context = gx.get_context()"
   ]
  },
  {
   "cell_type": "markdown",
   "metadata": {},
   "source": [
    "Crear Suite para luego agregar todas las Expectations"
   ]
  },
  {
   "cell_type": "code",
   "execution_count": 5,
   "metadata": {},
   "outputs": [],
   "source": [
    "suite = context.suites.add(\n",
    "    gx.core.expectation_suite.ExpectationSuite(name=\"expectations\")\n",
    ")"
   ]
  },
  {
   "cell_type": "markdown",
   "metadata": {},
   "source": [
    "## 1. Exactitud (Accuracy):\n",
    "\n",
    "* Verificamos que las edades estén entre 0 y 120 años.\n",
    "* Aseguramos que los tipos de sangre sean válidos."
   ]
  },
  {
   "cell_type": "code",
   "execution_count": 6,
   "metadata": {},
   "outputs": [
    {
     "data": {
      "text/plain": [
       "ExpectColumnValuesToBeInSet(id='94ca4a60-0a47-452e-a8d6-19be967bce95', meta=None, notes=None, result_format=<ResultFormat.BASIC: 'BASIC'>, description=None, catch_exceptions=True, rendered_content=None, windows=None, batch_id=None, row_condition=None, condition_parser=None, column='blood_type', mostly=1.0, value_set=['A+', 'A-', 'B+', 'B-', 'AB+', 'AB-', 'O+', 'O-'])"
      ]
     },
     "execution_count": 6,
     "metadata": {},
     "output_type": "execute_result"
    }
   ],
   "source": [
    "suite.add_expectation(\n",
    "    gx.expectations.ExpectColumnValuesToBeBetween(column=\"age\", min_value=0, max_value=120)\n",
    ")\n",
    "\n",
    "suite.add_expectation(\n",
    "    gx.expectations.ExpectColumnValuesToBeInSet(column=\"blood_type\", value_set=['A+', 'A-', 'B+', 'B-', 'AB+', 'AB-', 'O+', 'O-'])\n",
    ")"
   ]
  },
  {
   "cell_type": "markdown",
   "metadata": {},
   "source": [
    "## 2. Integridad (Completeness):\n",
    "\n",
    "Comprobamos que no haya valores nulos en ninguna columna."
   ]
  },
  {
   "cell_type": "code",
   "execution_count": 7,
   "metadata": {},
   "outputs": [],
   "source": [
    "for column in df.columns:\n",
    "    suite.add_expectation(\n",
    "        gx.expectations.ExpectColumnValuesToNotBeNull(column=column)\n",
    "    )"
   ]
  },
  {
   "cell_type": "markdown",
   "metadata": {},
   "source": [
    "## 3.Consistencia (Consistency):\n",
    "\n",
    "Verificamos que la combinación de patient_id y admission_date sea única."
   ]
  },
  {
   "cell_type": "code",
   "execution_count": 8,
   "metadata": {},
   "outputs": [
    {
     "data": {
      "text/plain": [
       "ExpectCompoundColumnsToBeUnique(id='f1792281-63d6-4edd-9d05-d8ab8cf93e62', meta=None, notes=None, result_format=<ResultFormat.BASIC: 'BASIC'>, description=None, catch_exceptions=True, rendered_content=None, windows=None, batch_id=None, row_condition=None, condition_parser=None, column_list=['patient_id', 'admission_date'], mostly=1.0, ignore_row_if='all_values_are_missing')"
      ]
     },
     "execution_count": 8,
     "metadata": {},
     "output_type": "execute_result"
    }
   ],
   "source": [
    "suite.add_expectation(\n",
    "    gx.expectations.ExpectCompoundColumnsToBeUnique(column_list=['patient_id', 'admission_date'])\n",
    ")"
   ]
  },
  {
   "cell_type": "markdown",
   "metadata": {},
   "source": [
    "## 4.Actualidad (Timeliness):\n",
    "\n",
    "Aseguramos que todas las fechas de admisión estén dentro del último año."
   ]
  },
  {
   "cell_type": "code",
   "execution_count": 9,
   "metadata": {},
   "outputs": [
    {
     "data": {
      "text/plain": [
       "ExpectColumnValuesToBeBetween(id='a75b39ea-7b04-4f61-8379-40ec40419be2', meta=None, notes=None, result_format=<ResultFormat.BASIC: 'BASIC'>, description=None, catch_exceptions=True, rendered_content=None, windows=None, batch_id=None, row_condition=None, condition_parser=None, column='admission_date', mostly=1.0, min_value=datetime.datetime(2023, 10, 9, 17, 14, 57, 581020), max_value=datetime.datetime(2024, 10, 8, 17, 14, 57, 581020), strict_min=False, strict_max=False)"
      ]
     },
     "execution_count": 9,
     "metadata": {},
     "output_type": "execute_result"
    }
   ],
   "source": [
    "current_date = datetime.now()\n",
    "one_year_ago = current_date - timedelta(days=365)\n",
    "\n",
    "suite.add_expectation(\n",
    "    gx.expectations.ExpectColumnValuesToBeBetween(column=\"admission_date\", min_value=one_year_ago, max_value=current_date)\n",
    ")"
   ]
  },
  {
   "cell_type": "markdown",
   "metadata": {},
   "source": [
    "## 5. Validez (Validity):\n",
    "\n",
    "Verificamos que los IDs de paciente y doctor sigan el formato correcto.\n",
    "Comprobamos que la edad sea de tipo entero."
   ]
  },
  {
   "cell_type": "code",
   "execution_count": 10,
   "metadata": {},
   "outputs": [
    {
     "data": {
      "text/plain": [
       "ExpectColumnValuesToBeOfType(id='ce1c4555-ef12-4496-aa62-0ff651940bb8', meta=None, notes=None, result_format=<ResultFormat.BASIC: 'BASIC'>, description=None, catch_exceptions=True, rendered_content=None, windows=None, batch_id=None, row_condition=None, condition_parser=None, column='age', mostly=1.0, type_='int64')"
      ]
     },
     "execution_count": 10,
     "metadata": {},
     "output_type": "execute_result"
    }
   ],
   "source": [
    "suite.add_expectation(\n",
    "    gx.expectations.ExpectColumnValuesToMatchRegex(column=\"patient_id\", regex=r'^P\\d{3}$')\n",
    ")\n",
    "\n",
    "suite.add_expectation(\n",
    "    gx.expectations.ExpectColumnValuesToMatchRegex(column=\"doctor_id\", regex=r'^D\\d+$')\n",
    ")\n",
    "\n",
    "suite.add_expectation(\n",
    "    gx.expectations.ExpectColumnValuesToBeOfType(column='age', type_='int64')\n",
    ")"
   ]
  },
  {
   "cell_type": "markdown",
   "metadata": {},
   "source": [
    "## 6. Unicidad (Uniqueness):\n",
    "\n",
    "Aseguramos que los IDs de paciente sean únicos."
   ]
  },
  {
   "cell_type": "code",
   "execution_count": 11,
   "metadata": {},
   "outputs": [
    {
     "data": {
      "text/plain": [
       "ExpectColumnValuesToBeUnique(id='f04604cd-58dc-46e7-81b5-adf98ffb2650', meta=None, notes=None, result_format=<ResultFormat.BASIC: 'BASIC'>, description=None, catch_exceptions=True, rendered_content=None, windows=None, batch_id=None, row_condition=None, condition_parser=None, column='patient_id', mostly=1.0)"
      ]
     },
     "execution_count": 11,
     "metadata": {},
     "output_type": "execute_result"
    }
   ],
   "source": [
    "suite.add_expectation(\n",
    "    gx.expectations.ExpectColumnValuesToBeUnique(column='patient_id')\n",
    ")"
   ]
  },
  {
   "cell_type": "code",
   "execution_count": null,
   "metadata": {},
   "outputs": [],
   "source": []
  },
  {
   "cell_type": "code",
   "execution_count": 21,
   "metadata": {},
   "outputs": [],
   "source": [
    "# Crear un batch con el DataFrame directamente\n",
    "batch_request = {\n",
    "    \"datasource_name\": \"pandas_datasource\",\n",
    "    \"data_connector_name\": \"default_runtime_data_connector_name\",\n",
    "    \"data_asset_name\": \"patient_data_asset\",\n",
    "    \"batch_data\": df\n",
    "}"
   ]
  },
  {
   "cell_type": "code",
   "execution_count": 26,
   "metadata": {},
   "outputs": [],
   "source": [
    "datasource_config = {\n",
    "    \"name\": \"pandas_datasource\",\n",
    "    \"class_name\": \"Datasource\",\n",
    "    \"execution_engine\": {\n",
    "        \"class_name\": \"PandasExecutionEngine\"\n",
    "    },\n",
    "    \"data_connectors\": {\n",
    "        \"default_runtime_data_connector_name\": {\n",
    "            \"class_name\": \"RuntimeDataConnector\",\n",
    "            \"batch_identifiers\": [\"default_identifier_name\"]\n",
    "        }\n",
    "    }\n",
    "}"
   ]
  },
  {
   "cell_type": "code",
   "execution_count": 27,
   "metadata": {},
   "outputs": [],
   "source": [
    "# Crear un RuntimeBatchRequest con el DataFrame directamente\n",
    "batch_request = gx.core.batch.RuntimeBatchRequest(\n",
    "    datasource_name=\"pandas_datasource\",\n",
    "    data_connector_name=\"default_runtime_data_connector_name\",\n",
    "    data_asset_name=\"patient_data_asset\",  # Puedes nombrar este asset como quieras\n",
    "    runtime_parameters={\"batch_data\": df},  # El DataFrame se pasa aquí\n",
    "    batch_identifiers={\"default_identifier_name\": \"batch_001\"}\n",
    ")"
   ]
  },
  {
   "cell_type": "code",
   "execution_count": 28,
   "metadata": {},
   "outputs": [
    {
     "ename": "DatasourceError",
     "evalue": "Cannot initialize datasource pandas_datasource, error: The given datasource could not be retrieved from the DataContext; please confirm that your configuration is accurate.",
     "output_type": "error",
     "traceback": [
      "\u001b[0;31m---------------------------------------------------------------------------\u001b[0m",
      "\u001b[0;31mDatasourceError\u001b[0m                           Traceback (most recent call last)",
      "Cell \u001b[0;32mIn[28], line 2\u001b[0m\n\u001b[1;32m      1\u001b[0m \u001b[38;5;66;03m# Obtener el validador\u001b[39;00m\n\u001b[0;32m----> 2\u001b[0m validator \u001b[38;5;241m=\u001b[39m \u001b[43mcontext\u001b[49m\u001b[38;5;241;43m.\u001b[39;49m\u001b[43mget_validator\u001b[49m\u001b[43m(\u001b[49m\n\u001b[1;32m      3\u001b[0m \u001b[43m    \u001b[49m\u001b[43mbatch_request\u001b[49m\u001b[38;5;241;43m=\u001b[39;49m\u001b[43mbatch_request\u001b[49m\u001b[43m,\u001b[49m\n\u001b[1;32m      4\u001b[0m \u001b[43m    \u001b[49m\u001b[43mexpectation_suite\u001b[49m\u001b[38;5;241;43m=\u001b[39;49m\u001b[43msuite\u001b[49m\n\u001b[1;32m      5\u001b[0m \u001b[43m)\u001b[49m\n",
      "File \u001b[0;32m~/Library/Python/3.9/lib/python/site-packages/great_expectations/data_context/data_context/abstract_data_context.py:1098\u001b[0m, in \u001b[0;36mAbstractDataContext.get_validator\u001b[0;34m(self, datasource_name, data_connector_name, data_asset_name, batch, batch_list, batch_request, batch_request_list, batch_data, data_connector_query, batch_identifiers, limit, index, custom_filter_function, sampling_method, sampling_kwargs, partitioner_method, partitioner_kwargs, runtime_parameters, query, path, batch_filter_parameters, batch_spec_passthrough, expectation_suite_id, expectation_suite_name, expectation_suite, create_expectation_suite_with_name, **kwargs)\u001b[0m\n\u001b[1;32m   1039\u001b[0m \u001b[38;5;250m\u001b[39m\u001b[38;5;124;03m\"\"\"Retrieve a Validator with a batch list and an `ExpectationSuite`.\u001b[39;00m\n\u001b[1;32m   1040\u001b[0m \n\u001b[1;32m   1041\u001b[0m \u001b[38;5;124;03m`get_validator` first calls `get_batch_list` to retrieve a batch list, then creates or retrieves\u001b[39;00m\n\u001b[0;32m   (...)\u001b[0m\n\u001b[1;32m   1090\u001b[0m \u001b[38;5;124;03m        retrieved using either the provided name or identifier\u001b[39;00m\n\u001b[1;32m   1091\u001b[0m \u001b[38;5;124;03m\"\"\"\u001b[39;00m  \u001b[38;5;66;03m# noqa: E501\u001b[39;00m\n\u001b[1;32m   1092\u001b[0m expectation_suite \u001b[38;5;241m=\u001b[39m \u001b[38;5;28mself\u001b[39m\u001b[38;5;241m.\u001b[39m_get_expectation_suite_from_inputs(\n\u001b[1;32m   1093\u001b[0m     expectation_suite\u001b[38;5;241m=\u001b[39mexpectation_suite,\n\u001b[1;32m   1094\u001b[0m     expectation_suite_name\u001b[38;5;241m=\u001b[39mexpectation_suite_name,\n\u001b[1;32m   1095\u001b[0m     create_expectation_suite_with_name\u001b[38;5;241m=\u001b[39mcreate_expectation_suite_with_name,\n\u001b[1;32m   1096\u001b[0m     expectation_suite_id\u001b[38;5;241m=\u001b[39mexpectation_suite_id,\n\u001b[1;32m   1097\u001b[0m )\n\u001b[0;32m-> 1098\u001b[0m batch_list \u001b[38;5;241m=\u001b[39m \u001b[38;5;28;43mself\u001b[39;49m\u001b[38;5;241;43m.\u001b[39;49m\u001b[43m_get_batch_list_from_inputs\u001b[49m\u001b[43m(\u001b[49m\n\u001b[1;32m   1099\u001b[0m \u001b[43m    \u001b[49m\u001b[43mdatasource_name\u001b[49m\u001b[38;5;241;43m=\u001b[39;49m\u001b[43mdatasource_name\u001b[49m\u001b[43m,\u001b[49m\n\u001b[1;32m   1100\u001b[0m \u001b[43m    \u001b[49m\u001b[43mdata_connector_name\u001b[49m\u001b[38;5;241;43m=\u001b[39;49m\u001b[43mdata_connector_name\u001b[49m\u001b[43m,\u001b[49m\n\u001b[1;32m   1101\u001b[0m \u001b[43m    \u001b[49m\u001b[43mdata_asset_name\u001b[49m\u001b[38;5;241;43m=\u001b[39;49m\u001b[43mdata_asset_name\u001b[49m\u001b[43m,\u001b[49m\n\u001b[1;32m   1102\u001b[0m \u001b[43m    \u001b[49m\u001b[43mbatch\u001b[49m\u001b[38;5;241;43m=\u001b[39;49m\u001b[43mbatch\u001b[49m\u001b[43m,\u001b[49m\n\u001b[1;32m   1103\u001b[0m \u001b[43m    \u001b[49m\u001b[43mbatch_list\u001b[49m\u001b[38;5;241;43m=\u001b[39;49m\u001b[43mbatch_list\u001b[49m\u001b[43m,\u001b[49m\n\u001b[1;32m   1104\u001b[0m \u001b[43m    \u001b[49m\u001b[43mbatch_request\u001b[49m\u001b[38;5;241;43m=\u001b[39;49m\u001b[43mbatch_request\u001b[49m\u001b[43m,\u001b[49m\n\u001b[1;32m   1105\u001b[0m \u001b[43m    \u001b[49m\u001b[43mbatch_request_list\u001b[49m\u001b[38;5;241;43m=\u001b[39;49m\u001b[43mbatch_request_list\u001b[49m\u001b[43m,\u001b[49m\n\u001b[1;32m   1106\u001b[0m \u001b[43m    \u001b[49m\u001b[43mbatch_data\u001b[49m\u001b[38;5;241;43m=\u001b[39;49m\u001b[43mbatch_data\u001b[49m\u001b[43m,\u001b[49m\n\u001b[1;32m   1107\u001b[0m \u001b[43m    \u001b[49m\u001b[43mdata_connector_query\u001b[49m\u001b[38;5;241;43m=\u001b[39;49m\u001b[43mdata_connector_query\u001b[49m\u001b[43m,\u001b[49m\n\u001b[1;32m   1108\u001b[0m \u001b[43m    \u001b[49m\u001b[43mbatch_identifiers\u001b[49m\u001b[38;5;241;43m=\u001b[39;49m\u001b[43mbatch_identifiers\u001b[49m\u001b[43m,\u001b[49m\n\u001b[1;32m   1109\u001b[0m \u001b[43m    \u001b[49m\u001b[43mlimit\u001b[49m\u001b[38;5;241;43m=\u001b[39;49m\u001b[43mlimit\u001b[49m\u001b[43m,\u001b[49m\n\u001b[1;32m   1110\u001b[0m \u001b[43m    \u001b[49m\u001b[43mindex\u001b[49m\u001b[38;5;241;43m=\u001b[39;49m\u001b[43mindex\u001b[49m\u001b[43m,\u001b[49m\n\u001b[1;32m   1111\u001b[0m \u001b[43m    \u001b[49m\u001b[43mcustom_filter_function\u001b[49m\u001b[38;5;241;43m=\u001b[39;49m\u001b[43mcustom_filter_function\u001b[49m\u001b[43m,\u001b[49m\n\u001b[1;32m   1112\u001b[0m \u001b[43m    \u001b[49m\u001b[43msampling_method\u001b[49m\u001b[38;5;241;43m=\u001b[39;49m\u001b[43msampling_method\u001b[49m\u001b[43m,\u001b[49m\n\u001b[1;32m   1113\u001b[0m \u001b[43m    \u001b[49m\u001b[43msampling_kwargs\u001b[49m\u001b[38;5;241;43m=\u001b[39;49m\u001b[43msampling_kwargs\u001b[49m\u001b[43m,\u001b[49m\n\u001b[1;32m   1114\u001b[0m \u001b[43m    \u001b[49m\u001b[43mpartitioner_method\u001b[49m\u001b[38;5;241;43m=\u001b[39;49m\u001b[43mpartitioner_method\u001b[49m\u001b[43m,\u001b[49m\n\u001b[1;32m   1115\u001b[0m \u001b[43m    \u001b[49m\u001b[43mpartitioner_kwargs\u001b[49m\u001b[38;5;241;43m=\u001b[39;49m\u001b[43mpartitioner_kwargs\u001b[49m\u001b[43m,\u001b[49m\n\u001b[1;32m   1116\u001b[0m \u001b[43m    \u001b[49m\u001b[43mruntime_parameters\u001b[49m\u001b[38;5;241;43m=\u001b[39;49m\u001b[43mruntime_parameters\u001b[49m\u001b[43m,\u001b[49m\n\u001b[1;32m   1117\u001b[0m \u001b[43m    \u001b[49m\u001b[43mquery\u001b[49m\u001b[38;5;241;43m=\u001b[39;49m\u001b[43mquery\u001b[49m\u001b[43m,\u001b[49m\n\u001b[1;32m   1118\u001b[0m \u001b[43m    \u001b[49m\u001b[43mpath\u001b[49m\u001b[38;5;241;43m=\u001b[39;49m\u001b[43mpath\u001b[49m\u001b[43m,\u001b[49m\n\u001b[1;32m   1119\u001b[0m \u001b[43m    \u001b[49m\u001b[43mbatch_filter_parameters\u001b[49m\u001b[38;5;241;43m=\u001b[39;49m\u001b[43mbatch_filter_parameters\u001b[49m\u001b[43m,\u001b[49m\n\u001b[1;32m   1120\u001b[0m \u001b[43m    \u001b[49m\u001b[43mbatch_spec_passthrough\u001b[49m\u001b[38;5;241;43m=\u001b[39;49m\u001b[43mbatch_spec_passthrough\u001b[49m\u001b[43m,\u001b[49m\n\u001b[1;32m   1121\u001b[0m \u001b[43m    \u001b[49m\u001b[38;5;241;43m*\u001b[39;49m\u001b[38;5;241;43m*\u001b[39;49m\u001b[43mkwargs\u001b[49m\u001b[43m,\u001b[49m\n\u001b[1;32m   1122\u001b[0m \u001b[43m\u001b[49m\u001b[43m)\u001b[49m\n\u001b[1;32m   1123\u001b[0m \u001b[38;5;28;01mreturn\u001b[39;00m \u001b[38;5;28mself\u001b[39m\u001b[38;5;241m.\u001b[39mget_validator_using_batch_list(\n\u001b[1;32m   1124\u001b[0m     expectation_suite\u001b[38;5;241m=\u001b[39mexpectation_suite,\n\u001b[1;32m   1125\u001b[0m     batch_list\u001b[38;5;241m=\u001b[39mbatch_list,\n\u001b[1;32m   1126\u001b[0m )\n",
      "File \u001b[0;32m~/Library/Python/3.9/lib/python/site-packages/great_expectations/data_context/data_context/abstract_data_context.py:1183\u001b[0m, in \u001b[0;36mAbstractDataContext._get_batch_list_from_inputs\u001b[0;34m(self, datasource_name, data_connector_name, data_asset_name, batch, batch_list, batch_request, batch_request_list, batch_data, data_connector_query, batch_identifiers, limit, index, custom_filter_function, sampling_method, sampling_kwargs, partitioner_method, partitioner_kwargs, runtime_parameters, query, path, batch_filter_parameters, batch_spec_passthrough, **kwargs)\u001b[0m\n\u001b[1;32m   1180\u001b[0m     batch_request_list \u001b[38;5;241m=\u001b[39m [batch_request]  \u001b[38;5;66;03m# type: ignore[list-item]\u001b[39;00m\n\u001b[1;32m   1181\u001b[0m \u001b[38;5;28;01mfor\u001b[39;00m batch_req \u001b[38;5;129;01min\u001b[39;00m batch_request_list:\n\u001b[1;32m   1182\u001b[0m     computed_batch_list\u001b[38;5;241m.\u001b[39mappend(\n\u001b[0;32m-> 1183\u001b[0m         \u001b[38;5;28;43mself\u001b[39;49m\u001b[38;5;241;43m.\u001b[39;49m\u001b[43mget_last_batch\u001b[49m\u001b[43m(\u001b[49m\n\u001b[1;32m   1184\u001b[0m \u001b[43m            \u001b[49m\u001b[43mdatasource_name\u001b[49m\u001b[38;5;241;43m=\u001b[39;49m\u001b[43mdatasource_name\u001b[49m\u001b[43m,\u001b[49m\n\u001b[1;32m   1185\u001b[0m \u001b[43m            \u001b[49m\u001b[43mdata_connector_name\u001b[49m\u001b[38;5;241;43m=\u001b[39;49m\u001b[43mdata_connector_name\u001b[49m\u001b[43m,\u001b[49m\n\u001b[1;32m   1186\u001b[0m \u001b[43m            \u001b[49m\u001b[43mdata_asset_name\u001b[49m\u001b[38;5;241;43m=\u001b[39;49m\u001b[43mdata_asset_name\u001b[49m\u001b[43m,\u001b[49m\n\u001b[1;32m   1187\u001b[0m \u001b[43m            \u001b[49m\u001b[43mbatch_request\u001b[49m\u001b[38;5;241;43m=\u001b[39;49m\u001b[43mbatch_req\u001b[49m\u001b[43m,\u001b[49m\n\u001b[1;32m   1188\u001b[0m \u001b[43m            \u001b[49m\u001b[43mbatch_data\u001b[49m\u001b[38;5;241;43m=\u001b[39;49m\u001b[43mbatch_data\u001b[49m\u001b[43m,\u001b[49m\n\u001b[1;32m   1189\u001b[0m \u001b[43m            \u001b[49m\u001b[43mdata_connector_query\u001b[49m\u001b[38;5;241;43m=\u001b[39;49m\u001b[43mdata_connector_query\u001b[49m\u001b[43m,\u001b[49m\n\u001b[1;32m   1190\u001b[0m \u001b[43m            \u001b[49m\u001b[43mbatch_identifiers\u001b[49m\u001b[38;5;241;43m=\u001b[39;49m\u001b[43mbatch_identifiers\u001b[49m\u001b[43m,\u001b[49m\n\u001b[1;32m   1191\u001b[0m \u001b[43m            \u001b[49m\u001b[43mlimit\u001b[49m\u001b[38;5;241;43m=\u001b[39;49m\u001b[43mlimit\u001b[49m\u001b[43m,\u001b[49m\n\u001b[1;32m   1192\u001b[0m \u001b[43m            \u001b[49m\u001b[43mindex\u001b[49m\u001b[38;5;241;43m=\u001b[39;49m\u001b[43mindex\u001b[49m\u001b[43m,\u001b[49m\n\u001b[1;32m   1193\u001b[0m \u001b[43m            \u001b[49m\u001b[43mcustom_filter_function\u001b[49m\u001b[38;5;241;43m=\u001b[39;49m\u001b[43mcustom_filter_function\u001b[49m\u001b[43m,\u001b[49m\n\u001b[1;32m   1194\u001b[0m \u001b[43m            \u001b[49m\u001b[43msampling_method\u001b[49m\u001b[38;5;241;43m=\u001b[39;49m\u001b[43msampling_method\u001b[49m\u001b[43m,\u001b[49m\n\u001b[1;32m   1195\u001b[0m \u001b[43m            \u001b[49m\u001b[43msampling_kwargs\u001b[49m\u001b[38;5;241;43m=\u001b[39;49m\u001b[43msampling_kwargs\u001b[49m\u001b[43m,\u001b[49m\n\u001b[1;32m   1196\u001b[0m \u001b[43m            \u001b[49m\u001b[43mpartitioner_method\u001b[49m\u001b[38;5;241;43m=\u001b[39;49m\u001b[43mpartitioner_method\u001b[49m\u001b[43m,\u001b[49m\n\u001b[1;32m   1197\u001b[0m \u001b[43m            \u001b[49m\u001b[43mpartitioner_kwargs\u001b[49m\u001b[38;5;241;43m=\u001b[39;49m\u001b[43mpartitioner_kwargs\u001b[49m\u001b[43m,\u001b[49m\n\u001b[1;32m   1198\u001b[0m \u001b[43m            \u001b[49m\u001b[43mruntime_parameters\u001b[49m\u001b[38;5;241;43m=\u001b[39;49m\u001b[43mruntime_parameters\u001b[49m\u001b[43m,\u001b[49m\n\u001b[1;32m   1199\u001b[0m \u001b[43m            \u001b[49m\u001b[43mquery\u001b[49m\u001b[38;5;241;43m=\u001b[39;49m\u001b[43mquery\u001b[49m\u001b[43m,\u001b[49m\n\u001b[1;32m   1200\u001b[0m \u001b[43m            \u001b[49m\u001b[43mpath\u001b[49m\u001b[38;5;241;43m=\u001b[39;49m\u001b[43mpath\u001b[49m\u001b[43m,\u001b[49m\n\u001b[1;32m   1201\u001b[0m \u001b[43m            \u001b[49m\u001b[43mbatch_filter_parameters\u001b[49m\u001b[38;5;241;43m=\u001b[39;49m\u001b[43mbatch_filter_parameters\u001b[49m\u001b[43m,\u001b[49m\n\u001b[1;32m   1202\u001b[0m \u001b[43m            \u001b[49m\u001b[43mbatch_spec_passthrough\u001b[49m\u001b[38;5;241;43m=\u001b[39;49m\u001b[43mbatch_spec_passthrough\u001b[49m\u001b[43m,\u001b[49m\n\u001b[1;32m   1203\u001b[0m \u001b[43m            \u001b[49m\u001b[38;5;241;43m*\u001b[39;49m\u001b[38;5;241;43m*\u001b[39;49m\u001b[43mkwargs\u001b[49m\u001b[43m,\u001b[49m\n\u001b[1;32m   1204\u001b[0m \u001b[43m        \u001b[49m\u001b[43m)\u001b[49m\n\u001b[1;32m   1205\u001b[0m     )\n\u001b[1;32m   1206\u001b[0m \u001b[38;5;28;01mreturn\u001b[39;00m computed_batch_list\n",
      "File \u001b[0;32m~/Library/Python/3.9/lib/python/site-packages/great_expectations/data_context/data_context/abstract_data_context.py:1376\u001b[0m, in \u001b[0;36mAbstractDataContext.get_last_batch\u001b[0;34m(self, datasource_name, data_connector_name, data_asset_name, batch_request, batch_data, data_connector_query, batch_identifiers, limit, index, custom_filter_function, sampling_method, sampling_kwargs, partitioner_method, partitioner_kwargs, runtime_parameters, query, path, batch_filter_parameters, batch_spec_passthrough, batch_parameters, **kwargs)\u001b[0m\n\u001b[1;32m   1303\u001b[0m \u001b[38;5;28;01mdef\u001b[39;00m \u001b[38;5;21mget_last_batch\u001b[39m(  \u001b[38;5;66;03m# noqa: PLR0913\u001b[39;00m\n\u001b[1;32m   1304\u001b[0m     \u001b[38;5;28mself\u001b[39m,\n\u001b[1;32m   1305\u001b[0m     datasource_name: Optional[\u001b[38;5;28mstr\u001b[39m] \u001b[38;5;241m=\u001b[39m \u001b[38;5;28;01mNone\u001b[39;00m,\n\u001b[0;32m   (...)\u001b[0m\n\u001b[1;32m   1325\u001b[0m     \u001b[38;5;241m*\u001b[39m\u001b[38;5;241m*\u001b[39mkwargs: Optional[\u001b[38;5;28mdict\u001b[39m],\n\u001b[1;32m   1326\u001b[0m ) \u001b[38;5;241m-\u001b[39m\u001b[38;5;241m>\u001b[39m Batch:\n\u001b[1;32m   1327\u001b[0m \u001b[38;5;250m    \u001b[39m\u001b[38;5;124;03m\"\"\"Get the list of zero or more batches, based on a variety of flexible input types.\u001b[39;00m\n\u001b[1;32m   1328\u001b[0m \n\u001b[1;32m   1329\u001b[0m \u001b[38;5;124;03m    `get_batch_list` is the main user-facing API for getting batches.\u001b[39;00m\n\u001b[0;32m   (...)\u001b[0m\n\u001b[1;32m   1374\u001b[0m \n\u001b[1;32m   1375\u001b[0m \u001b[38;5;124;03m    \"\"\"\u001b[39;00m  \u001b[38;5;66;03m# noqa: E501\u001b[39;00m\n\u001b[0;32m-> 1376\u001b[0m     \u001b[38;5;28;01mreturn\u001b[39;00m \u001b[38;5;28;43mself\u001b[39;49m\u001b[38;5;241;43m.\u001b[39;49m\u001b[43m_get_last_batch\u001b[49m\u001b[43m(\u001b[49m\n\u001b[1;32m   1377\u001b[0m \u001b[43m        \u001b[49m\u001b[43mdatasource_name\u001b[49m\u001b[38;5;241;43m=\u001b[39;49m\u001b[43mdatasource_name\u001b[49m\u001b[43m,\u001b[49m\n\u001b[1;32m   1378\u001b[0m \u001b[43m        \u001b[49m\u001b[43mdata_connector_name\u001b[49m\u001b[38;5;241;43m=\u001b[39;49m\u001b[43mdata_connector_name\u001b[49m\u001b[43m,\u001b[49m\n\u001b[1;32m   1379\u001b[0m \u001b[43m        \u001b[49m\u001b[43mdata_asset_name\u001b[49m\u001b[38;5;241;43m=\u001b[39;49m\u001b[43mdata_asset_name\u001b[49m\u001b[43m,\u001b[49m\n\u001b[1;32m   1380\u001b[0m \u001b[43m        \u001b[49m\u001b[43mbatch_request\u001b[49m\u001b[38;5;241;43m=\u001b[39;49m\u001b[43mbatch_request\u001b[49m\u001b[43m,\u001b[49m\n\u001b[1;32m   1381\u001b[0m \u001b[43m        \u001b[49m\u001b[43mbatch_data\u001b[49m\u001b[38;5;241;43m=\u001b[39;49m\u001b[43mbatch_data\u001b[49m\u001b[43m,\u001b[49m\n\u001b[1;32m   1382\u001b[0m \u001b[43m        \u001b[49m\u001b[43mdata_connector_query\u001b[49m\u001b[38;5;241;43m=\u001b[39;49m\u001b[43mdata_connector_query\u001b[49m\u001b[43m,\u001b[49m\n\u001b[1;32m   1383\u001b[0m \u001b[43m        \u001b[49m\u001b[43mbatch_identifiers\u001b[49m\u001b[38;5;241;43m=\u001b[39;49m\u001b[43mbatch_identifiers\u001b[49m\u001b[43m,\u001b[49m\n\u001b[1;32m   1384\u001b[0m \u001b[43m        \u001b[49m\u001b[43mlimit\u001b[49m\u001b[38;5;241;43m=\u001b[39;49m\u001b[43mlimit\u001b[49m\u001b[43m,\u001b[49m\n\u001b[1;32m   1385\u001b[0m \u001b[43m        \u001b[49m\u001b[43mindex\u001b[49m\u001b[38;5;241;43m=\u001b[39;49m\u001b[43mindex\u001b[49m\u001b[43m,\u001b[49m\n\u001b[1;32m   1386\u001b[0m \u001b[43m        \u001b[49m\u001b[43mcustom_filter_function\u001b[49m\u001b[38;5;241;43m=\u001b[39;49m\u001b[43mcustom_filter_function\u001b[49m\u001b[43m,\u001b[49m\n\u001b[1;32m   1387\u001b[0m \u001b[43m        \u001b[49m\u001b[43msampling_method\u001b[49m\u001b[38;5;241;43m=\u001b[39;49m\u001b[43msampling_method\u001b[49m\u001b[43m,\u001b[49m\n\u001b[1;32m   1388\u001b[0m \u001b[43m        \u001b[49m\u001b[43msampling_kwargs\u001b[49m\u001b[38;5;241;43m=\u001b[39;49m\u001b[43msampling_kwargs\u001b[49m\u001b[43m,\u001b[49m\n\u001b[1;32m   1389\u001b[0m \u001b[43m        \u001b[49m\u001b[43mpartitioner_method\u001b[49m\u001b[38;5;241;43m=\u001b[39;49m\u001b[43mpartitioner_method\u001b[49m\u001b[43m,\u001b[49m\n\u001b[1;32m   1390\u001b[0m \u001b[43m        \u001b[49m\u001b[43mpartitioner_kwargs\u001b[49m\u001b[38;5;241;43m=\u001b[39;49m\u001b[43mpartitioner_kwargs\u001b[49m\u001b[43m,\u001b[49m\n\u001b[1;32m   1391\u001b[0m \u001b[43m        \u001b[49m\u001b[43mruntime_parameters\u001b[49m\u001b[38;5;241;43m=\u001b[39;49m\u001b[43mruntime_parameters\u001b[49m\u001b[43m,\u001b[49m\n\u001b[1;32m   1392\u001b[0m \u001b[43m        \u001b[49m\u001b[43mquery\u001b[49m\u001b[38;5;241;43m=\u001b[39;49m\u001b[43mquery\u001b[49m\u001b[43m,\u001b[49m\n\u001b[1;32m   1393\u001b[0m \u001b[43m        \u001b[49m\u001b[43mpath\u001b[49m\u001b[38;5;241;43m=\u001b[39;49m\u001b[43mpath\u001b[49m\u001b[43m,\u001b[49m\n\u001b[1;32m   1394\u001b[0m \u001b[43m        \u001b[49m\u001b[43mbatch_filter_parameters\u001b[49m\u001b[38;5;241;43m=\u001b[39;49m\u001b[43mbatch_filter_parameters\u001b[49m\u001b[43m,\u001b[49m\n\u001b[1;32m   1395\u001b[0m \u001b[43m        \u001b[49m\u001b[43mbatch_spec_passthrough\u001b[49m\u001b[38;5;241;43m=\u001b[39;49m\u001b[43mbatch_spec_passthrough\u001b[49m\u001b[43m,\u001b[49m\n\u001b[1;32m   1396\u001b[0m \u001b[43m        \u001b[49m\u001b[43mbatch_parameters\u001b[49m\u001b[38;5;241;43m=\u001b[39;49m\u001b[43mbatch_parameters\u001b[49m\u001b[43m,\u001b[49m\n\u001b[1;32m   1397\u001b[0m \u001b[43m        \u001b[49m\u001b[38;5;241;43m*\u001b[39;49m\u001b[38;5;241;43m*\u001b[39;49m\u001b[43mkwargs\u001b[49m\u001b[43m,\u001b[49m\n\u001b[1;32m   1398\u001b[0m \u001b[43m    \u001b[49m\u001b[43m)\u001b[49m\n",
      "File \u001b[0;32m~/Library/Python/3.9/lib/python/site-packages/great_expectations/data_context/data_context/abstract_data_context.py:1451\u001b[0m, in \u001b[0;36mAbstractDataContext._get_last_batch\u001b[0;34m(self, datasource_name, data_connector_name, data_asset_name, batch_request, batch_data, data_connector_query, batch_identifiers, limit, index, custom_filter_function, sampling_method, sampling_kwargs, partitioner_method, partitioner_kwargs, runtime_parameters, query, path, batch_filter_parameters, batch_spec_passthrough, batch_parameters, **kwargs)\u001b[0m\n\u001b[1;32m   1449\u001b[0m datasource \u001b[38;5;241m=\u001b[39m \u001b[38;5;28mself\u001b[39m\u001b[38;5;241m.\u001b[39mdata_sources\u001b[38;5;241m.\u001b[39mall()\u001b[38;5;241m.\u001b[39mget(datasource_name)\n\u001b[1;32m   1450\u001b[0m \u001b[38;5;28;01mif\u001b[39;00m \u001b[38;5;129;01mnot\u001b[39;00m datasource:\n\u001b[0;32m-> 1451\u001b[0m     \u001b[38;5;28;01mraise\u001b[39;00m gx_exceptions\u001b[38;5;241m.\u001b[39mDatasourceError(\n\u001b[1;32m   1452\u001b[0m         datasource_name,\n\u001b[1;32m   1453\u001b[0m         \u001b[38;5;124m\"\u001b[39m\u001b[38;5;124mThe given datasource could not be retrieved from the DataContext; \u001b[39m\u001b[38;5;124m\"\u001b[39m\n\u001b[1;32m   1454\u001b[0m         \u001b[38;5;124m\"\u001b[39m\u001b[38;5;124mplease confirm that your configuration is accurate.\u001b[39m\u001b[38;5;124m\"\u001b[39m,\n\u001b[1;32m   1455\u001b[0m     )\n\u001b[1;32m   1457\u001b[0m \u001b[38;5;28;01mreturn\u001b[39;00m datasource\u001b[38;5;241m.\u001b[39mget_batch(batch_request\u001b[38;5;241m=\u001b[39mresult)\n",
      "\u001b[0;31mDatasourceError\u001b[0m: Cannot initialize datasource pandas_datasource, error: The given datasource could not be retrieved from the DataContext; please confirm that your configuration is accurate."
     ]
    }
   ],
   "source": [
    "# Obtener el validador\n",
    "validator = context.get_validator(\n",
    "    batch_request=batch_request,\n",
    "    expectation_suite=suite\n",
    ")"
   ]
  },
  {
   "cell_type": "code",
   "execution_count": 12,
   "metadata": {},
   "outputs": [],
   "source": [
    "validation_definition = context.validation_definitions.add(\n",
    "    gx.core.validation_definition.ValidationDefinition(\n",
    "        name = \"validation definition\",\n",
    "        data = batch_definition,\n",
    "        suite = suite\n",
    "    )\n",
    ")"
   ]
  },
  {
   "cell_type": "code",
   "execution_count": 13,
   "metadata": {},
   "outputs": [
    {
     "ename": "BuildBatchRequestError",
     "evalue": "Bad input to build_batch_request: options must contain exactly 1 key, 'dataframe'.",
     "output_type": "error",
     "traceback": [
      "\u001b[0;31m---------------------------------------------------------------------------\u001b[0m",
      "\u001b[0;31mBuildBatchRequestError\u001b[0m                    Traceback (most recent call last)",
      "Cell \u001b[0;32mIn[13], line 12\u001b[0m\n\u001b[1;32m      1\u001b[0m \u001b[38;5;124;03m'''\u001b[39;00m\n\u001b[1;32m      2\u001b[0m \u001b[38;5;124;03mCrea y ejecuta un punto de comprobación (Checkpoint) para validar los datos basándose en la definición de validación suministrada. \u001b[39;00m\n\u001b[1;32m      3\u001b[0m \u001b[38;5;124;03m.describe() es un método práctico para ver un resumen de los resultados del punto de comprobación.\u001b[39;00m\n\u001b[1;32m      4\u001b[0m \u001b[38;5;124;03m'''\u001b[39;00m\n\u001b[1;32m      6\u001b[0m checkpoint \u001b[38;5;241m=\u001b[39m context\u001b[38;5;241m.\u001b[39mcheckpoints\u001b[38;5;241m.\u001b[39madd(\n\u001b[1;32m      7\u001b[0m     gx\u001b[38;5;241m.\u001b[39mcheckpoint\u001b[38;5;241m.\u001b[39mcheckpoint\u001b[38;5;241m.\u001b[39mCheckpoint(\n\u001b[1;32m      8\u001b[0m         name\u001b[38;5;241m=\u001b[39m\u001b[38;5;124m\"\u001b[39m\u001b[38;5;124mcheckpoint\u001b[39m\u001b[38;5;124m\"\u001b[39m, validation_definitions\u001b[38;5;241m=\u001b[39m[validation_definition]\n\u001b[1;32m      9\u001b[0m     )\n\u001b[1;32m     10\u001b[0m )\n\u001b[0;32m---> 12\u001b[0m checkpoint_result \u001b[38;5;241m=\u001b[39m \u001b[43mcheckpoint\u001b[49m\u001b[38;5;241;43m.\u001b[39;49m\u001b[43mrun\u001b[49m\u001b[43m(\u001b[49m\u001b[43m)\u001b[49m\n\u001b[1;32m     13\u001b[0m \u001b[38;5;28mprint\u001b[39m(checkpoint_result\u001b[38;5;241m.\u001b[39mdescribe())\n",
      "File \u001b[0;32m~/Library/Python/3.9/lib/python/site-packages/great_expectations/checkpoint/checkpoint.py:292\u001b[0m, in \u001b[0;36mCheckpoint.run\u001b[0;34m(self, batch_parameters, expectation_parameters, run_id)\u001b[0m\n\u001b[1;32m    289\u001b[0m         diagnostics\u001b[38;5;241m.\u001b[39mraise_for_error()\n\u001b[1;32m    291\u001b[0m run_id \u001b[38;5;241m=\u001b[39m run_id \u001b[38;5;129;01mor\u001b[39;00m RunIdentifier(run_time\u001b[38;5;241m=\u001b[39mdt\u001b[38;5;241m.\u001b[39mdatetime\u001b[38;5;241m.\u001b[39mnow(dt\u001b[38;5;241m.\u001b[39mtimezone\u001b[38;5;241m.\u001b[39mutc))\n\u001b[0;32m--> 292\u001b[0m run_results \u001b[38;5;241m=\u001b[39m \u001b[38;5;28;43mself\u001b[39;49m\u001b[38;5;241;43m.\u001b[39;49m\u001b[43m_run_validation_definitions\u001b[49m\u001b[43m(\u001b[49m\n\u001b[1;32m    293\u001b[0m \u001b[43m    \u001b[49m\u001b[43mbatch_parameters\u001b[49m\u001b[38;5;241;43m=\u001b[39;49m\u001b[43mbatch_parameters\u001b[49m\u001b[43m,\u001b[49m\n\u001b[1;32m    294\u001b[0m \u001b[43m    \u001b[49m\u001b[43mexpectation_parameters\u001b[49m\u001b[38;5;241;43m=\u001b[39;49m\u001b[43mexpectation_parameters\u001b[49m\u001b[43m,\u001b[49m\n\u001b[1;32m    295\u001b[0m \u001b[43m    \u001b[49m\u001b[43mresult_format\u001b[49m\u001b[38;5;241;43m=\u001b[39;49m\u001b[38;5;28;43mself\u001b[39;49m\u001b[38;5;241;43m.\u001b[39;49m\u001b[43mresult_format\u001b[49m\u001b[43m,\u001b[49m\n\u001b[1;32m    296\u001b[0m \u001b[43m    \u001b[49m\u001b[43mrun_id\u001b[49m\u001b[38;5;241;43m=\u001b[39;49m\u001b[43mrun_id\u001b[49m\u001b[43m,\u001b[49m\n\u001b[1;32m    297\u001b[0m \u001b[43m\u001b[49m\u001b[43m)\u001b[49m\n\u001b[1;32m    299\u001b[0m checkpoint_result \u001b[38;5;241m=\u001b[39m \u001b[38;5;28mself\u001b[39m\u001b[38;5;241m.\u001b[39m_construct_result(run_id\u001b[38;5;241m=\u001b[39mrun_id, run_results\u001b[38;5;241m=\u001b[39mrun_results)\n\u001b[1;32m    300\u001b[0m \u001b[38;5;28mself\u001b[39m\u001b[38;5;241m.\u001b[39m_run_actions(checkpoint_result\u001b[38;5;241m=\u001b[39mcheckpoint_result)\n",
      "File \u001b[0;32m~/Library/Python/3.9/lib/python/site-packages/great_expectations/checkpoint/checkpoint.py:322\u001b[0m, in \u001b[0;36mCheckpoint._run_validation_definitions\u001b[0;34m(self, batch_parameters, expectation_parameters, result_format, run_id)\u001b[0m\n\u001b[1;32m    320\u001b[0m run_results: Dict[ValidationResultIdentifier, ExpectationSuiteValidationResult] \u001b[38;5;241m=\u001b[39m {}\n\u001b[1;32m    321\u001b[0m \u001b[38;5;28;01mfor\u001b[39;00m validation_definition \u001b[38;5;129;01min\u001b[39;00m \u001b[38;5;28mself\u001b[39m\u001b[38;5;241m.\u001b[39mvalidation_definitions:\n\u001b[0;32m--> 322\u001b[0m     validation_result \u001b[38;5;241m=\u001b[39m \u001b[43mvalidation_definition\u001b[49m\u001b[38;5;241;43m.\u001b[39;49m\u001b[43mrun\u001b[49m\u001b[43m(\u001b[49m\n\u001b[1;32m    323\u001b[0m \u001b[43m        \u001b[49m\u001b[43mcheckpoint_id\u001b[49m\u001b[38;5;241;43m=\u001b[39;49m\u001b[38;5;28;43mself\u001b[39;49m\u001b[38;5;241;43m.\u001b[39;49m\u001b[43mid\u001b[49m\u001b[43m,\u001b[49m\n\u001b[1;32m    324\u001b[0m \u001b[43m        \u001b[49m\u001b[43mbatch_parameters\u001b[49m\u001b[38;5;241;43m=\u001b[39;49m\u001b[43mbatch_parameters\u001b[49m\u001b[43m,\u001b[49m\n\u001b[1;32m    325\u001b[0m \u001b[43m        \u001b[49m\u001b[43mexpectation_parameters\u001b[49m\u001b[38;5;241;43m=\u001b[39;49m\u001b[43mexpectation_parameters\u001b[49m\u001b[43m,\u001b[49m\n\u001b[1;32m    326\u001b[0m \u001b[43m        \u001b[49m\u001b[43mresult_format\u001b[49m\u001b[38;5;241;43m=\u001b[39;49m\u001b[43mresult_format\u001b[49m\u001b[43m,\u001b[49m\n\u001b[1;32m    327\u001b[0m \u001b[43m        \u001b[49m\u001b[43mrun_id\u001b[49m\u001b[38;5;241;43m=\u001b[39;49m\u001b[43mrun_id\u001b[49m\u001b[43m,\u001b[49m\n\u001b[1;32m    328\u001b[0m \u001b[43m    \u001b[49m\u001b[43m)\u001b[49m\n\u001b[1;32m    329\u001b[0m     key \u001b[38;5;241m=\u001b[39m \u001b[38;5;28mself\u001b[39m\u001b[38;5;241m.\u001b[39m_build_result_key(\n\u001b[1;32m    330\u001b[0m         validation_definition\u001b[38;5;241m=\u001b[39mvalidation_definition,\n\u001b[1;32m    331\u001b[0m         run_id\u001b[38;5;241m=\u001b[39mrun_id,\n\u001b[1;32m    332\u001b[0m         batch_identifier\u001b[38;5;241m=\u001b[39mvalidation_result\u001b[38;5;241m.\u001b[39mbatch_id,\n\u001b[1;32m    333\u001b[0m     )\n\u001b[1;32m    334\u001b[0m     run_results[key] \u001b[38;5;241m=\u001b[39m validation_result\n",
      "File \u001b[0;32m~/Library/Python/3.9/lib/python/site-packages/great_expectations/core/validation_definition.py:289\u001b[0m, in \u001b[0;36mValidationDefinition.run\u001b[0;34m(self, checkpoint_id, batch_parameters, expectation_parameters, result_format, run_id)\u001b[0m\n\u001b[1;32m    282\u001b[0m         diagnostics\u001b[38;5;241m.\u001b[39mraise_for_error()\n\u001b[1;32m    284\u001b[0m validator \u001b[38;5;241m=\u001b[39m Validator(\n\u001b[1;32m    285\u001b[0m     batch_definition\u001b[38;5;241m=\u001b[39m\u001b[38;5;28mself\u001b[39m\u001b[38;5;241m.\u001b[39mbatch_definition,\n\u001b[1;32m    286\u001b[0m     batch_parameters\u001b[38;5;241m=\u001b[39mbatch_parameters,\n\u001b[1;32m    287\u001b[0m     result_format\u001b[38;5;241m=\u001b[39mresult_format,\n\u001b[1;32m    288\u001b[0m )\n\u001b[0;32m--> 289\u001b[0m results \u001b[38;5;241m=\u001b[39m \u001b[43mvalidator\u001b[49m\u001b[38;5;241;43m.\u001b[39;49m\u001b[43mvalidate_expectation_suite\u001b[49m\u001b[43m(\u001b[49m\u001b[38;5;28;43mself\u001b[39;49m\u001b[38;5;241;43m.\u001b[39;49m\u001b[43msuite\u001b[49m\u001b[43m,\u001b[49m\u001b[43m \u001b[49m\u001b[43mexpectation_parameters\u001b[49m\u001b[43m)\u001b[49m\n\u001b[1;32m    290\u001b[0m results\u001b[38;5;241m.\u001b[39mmeta[\u001b[38;5;124m\"\u001b[39m\u001b[38;5;124mvalidation_id\u001b[39m\u001b[38;5;124m\"\u001b[39m] \u001b[38;5;241m=\u001b[39m \u001b[38;5;28mself\u001b[39m\u001b[38;5;241m.\u001b[39mid\n\u001b[1;32m    291\u001b[0m results\u001b[38;5;241m.\u001b[39mmeta[\u001b[38;5;124m\"\u001b[39m\u001b[38;5;124mcheckpoint_id\u001b[39m\u001b[38;5;124m\"\u001b[39m] \u001b[38;5;241m=\u001b[39m checkpoint_id\n",
      "File \u001b[0;32m~/Library/Python/3.9/lib/python/site-packages/great_expectations/validator/v1_validator.py:70\u001b[0m, in \u001b[0;36mValidator.validate_expectation_suite\u001b[0;34m(self, expectation_suite, expectation_parameters)\u001b[0m\n\u001b[1;32m     64\u001b[0m \u001b[38;5;28;01mdef\u001b[39;00m \u001b[38;5;21mvalidate_expectation_suite\u001b[39m(\n\u001b[1;32m     65\u001b[0m     \u001b[38;5;28mself\u001b[39m,\n\u001b[1;32m     66\u001b[0m     expectation_suite: ExpectationSuite,\n\u001b[1;32m     67\u001b[0m     expectation_parameters: Optional[SuiteParameterDict] \u001b[38;5;241m=\u001b[39m \u001b[38;5;28;01mNone\u001b[39;00m,\n\u001b[1;32m     68\u001b[0m ) \u001b[38;5;241m-\u001b[39m\u001b[38;5;241m>\u001b[39m ExpectationSuiteValidationResult:\n\u001b[1;32m     69\u001b[0m \u001b[38;5;250m    \u001b[39m\u001b[38;5;124;03m\"\"\"Run an expectation suite against the batch definition\"\"\"\u001b[39;00m\n\u001b[0;32m---> 70\u001b[0m     results \u001b[38;5;241m=\u001b[39m \u001b[38;5;28;43mself\u001b[39;49m\u001b[38;5;241;43m.\u001b[39;49m\u001b[43m_validate_expectation_configs\u001b[49m\u001b[43m(\u001b[49m\n\u001b[1;32m     71\u001b[0m \u001b[43m        \u001b[49m\u001b[43mexpectation_configs\u001b[49m\u001b[38;5;241;43m=\u001b[39;49m\u001b[43mexpectation_suite\u001b[49m\u001b[38;5;241;43m.\u001b[39;49m\u001b[43mexpectation_configurations\u001b[49m\u001b[43m,\u001b[49m\n\u001b[1;32m     72\u001b[0m \u001b[43m        \u001b[49m\u001b[43mexpectation_parameters\u001b[49m\u001b[38;5;241;43m=\u001b[39;49m\u001b[43mexpectation_parameters\u001b[49m\u001b[43m,\u001b[49m\n\u001b[1;32m     73\u001b[0m \u001b[43m    \u001b[49m\u001b[43m)\u001b[49m\n\u001b[1;32m     74\u001b[0m     statistics \u001b[38;5;241m=\u001b[39m calc_validation_statistics(results)\n\u001b[1;32m     76\u001b[0m     \u001b[38;5;28;01mreturn\u001b[39;00m ExpectationSuiteValidationResult(\n\u001b[1;32m     77\u001b[0m         results\u001b[38;5;241m=\u001b[39mresults,\n\u001b[1;32m     78\u001b[0m         success\u001b[38;5;241m=\u001b[39mstatistics\u001b[38;5;241m.\u001b[39msuccess,\n\u001b[0;32m   (...)\u001b[0m\n\u001b[1;32m     98\u001b[0m         batch_id\u001b[38;5;241m=\u001b[39m\u001b[38;5;28mself\u001b[39m\u001b[38;5;241m.\u001b[39mactive_batch_id,\n\u001b[1;32m     99\u001b[0m     )\n",
      "File \u001b[0;32m~/Library/Python/3.9/lib/python/site-packages/great_expectations/validator/v1_validator.py:122\u001b[0m, in \u001b[0;36mValidator._validate_expectation_configs\u001b[0;34m(self, expectation_configs, expectation_parameters)\u001b[0m\n\u001b[1;32m    116\u001b[0m \u001b[38;5;28;01mdef\u001b[39;00m \u001b[38;5;21m_validate_expectation_configs\u001b[39m(\n\u001b[1;32m    117\u001b[0m     \u001b[38;5;28mself\u001b[39m,\n\u001b[1;32m    118\u001b[0m     expectation_configs: \u001b[38;5;28mlist\u001b[39m[ExpectationConfiguration],\n\u001b[1;32m    119\u001b[0m     expectation_parameters: Optional[SuiteParameterDict] \u001b[38;5;241m=\u001b[39m \u001b[38;5;28;01mNone\u001b[39;00m,\n\u001b[1;32m    120\u001b[0m ) \u001b[38;5;241m-\u001b[39m\u001b[38;5;241m>\u001b[39m \u001b[38;5;28mlist\u001b[39m[ExpectationValidationResult]:\n\u001b[1;32m    121\u001b[0m \u001b[38;5;250m    \u001b[39m\u001b[38;5;124;03m\"\"\"Run a list of expectation configurations against the batch definition\"\"\"\u001b[39;00m\n\u001b[0;32m--> 122\u001b[0m     processed_expectation_configs \u001b[38;5;241m=\u001b[39m \u001b[38;5;28;43mself\u001b[39;49m\u001b[38;5;241;43m.\u001b[39;49m\u001b[43m_wrapped_validator\u001b[49m\u001b[38;5;241m.\u001b[39mprocess_expectations_for_validation(\n\u001b[1;32m    123\u001b[0m         expectation_configs, expectation_parameters\n\u001b[1;32m    124\u001b[0m     )\n\u001b[1;32m    126\u001b[0m     runtime_configuration: \u001b[38;5;28mdict\u001b[39m\n\u001b[1;32m    127\u001b[0m     \u001b[38;5;28;01mif\u001b[39;00m \u001b[38;5;28misinstance\u001b[39m(\u001b[38;5;28mself\u001b[39m\u001b[38;5;241m.\u001b[39mresult_format, ResultFormat):\n",
      "File \u001b[0;32m/Library/Developer/CommandLineTools/Library/Frameworks/Python3.framework/Versions/3.9/lib/python3.9/functools.py:969\u001b[0m, in \u001b[0;36mcached_property.__get__\u001b[0;34m(self, instance, owner)\u001b[0m\n\u001b[1;32m    967\u001b[0m val \u001b[38;5;241m=\u001b[39m cache\u001b[38;5;241m.\u001b[39mget(\u001b[38;5;28mself\u001b[39m\u001b[38;5;241m.\u001b[39mattrname, _NOT_FOUND)\n\u001b[1;32m    968\u001b[0m \u001b[38;5;28;01mif\u001b[39;00m val \u001b[38;5;129;01mis\u001b[39;00m _NOT_FOUND:\n\u001b[0;32m--> 969\u001b[0m     val \u001b[38;5;241m=\u001b[39m \u001b[38;5;28;43mself\u001b[39;49m\u001b[38;5;241;43m.\u001b[39;49m\u001b[43mfunc\u001b[49m\u001b[43m(\u001b[49m\u001b[43minstance\u001b[49m\u001b[43m)\u001b[49m\n\u001b[1;32m    970\u001b[0m     \u001b[38;5;28;01mtry\u001b[39;00m:\n\u001b[1;32m    971\u001b[0m         cache[\u001b[38;5;28mself\u001b[39m\u001b[38;5;241m.\u001b[39mattrname] \u001b[38;5;241m=\u001b[39m val\n",
      "File \u001b[0;32m~/Library/Python/3.9/lib/python/site-packages/great_expectations/validator/v1_validator.py:111\u001b[0m, in \u001b[0;36mValidator._wrapped_validator\u001b[0;34m(self)\u001b[0m\n\u001b[1;32m    109\u001b[0m \u001b[38;5;129m@cached_property\u001b[39m\n\u001b[1;32m    110\u001b[0m \u001b[38;5;28;01mdef\u001b[39;00m \u001b[38;5;21m_wrapped_validator\u001b[39m(\u001b[38;5;28mself\u001b[39m) \u001b[38;5;241m-\u001b[39m\u001b[38;5;241m>\u001b[39m OldValidator:\n\u001b[0;32m--> 111\u001b[0m     batch_request \u001b[38;5;241m=\u001b[39m \u001b[38;5;28;43mself\u001b[39;49m\u001b[38;5;241;43m.\u001b[39;49m\u001b[43m_batch_definition\u001b[49m\u001b[38;5;241;43m.\u001b[39;49m\u001b[43mbuild_batch_request\u001b[49m\u001b[43m(\u001b[49m\n\u001b[1;32m    112\u001b[0m \u001b[43m        \u001b[49m\u001b[43mbatch_parameters\u001b[49m\u001b[38;5;241;43m=\u001b[39;49m\u001b[38;5;28;43mself\u001b[39;49m\u001b[38;5;241;43m.\u001b[39;49m\u001b[43m_batch_parameters\u001b[49m\n\u001b[1;32m    113\u001b[0m \u001b[43m    \u001b[49m\u001b[43m)\u001b[49m\n\u001b[1;32m    114\u001b[0m     \u001b[38;5;28;01mreturn\u001b[39;00m \u001b[38;5;28mself\u001b[39m\u001b[38;5;241m.\u001b[39m_get_validator(batch_request\u001b[38;5;241m=\u001b[39mbatch_request)\n",
      "File \u001b[0;32m~/Library/Python/3.9/lib/python/site-packages/great_expectations/core/batch_definition.py:64\u001b[0m, in \u001b[0;36mBatchDefinition.build_batch_request\u001b[0;34m(self, batch_parameters)\u001b[0m\n\u001b[1;32m     60\u001b[0m \u001b[38;5;28;01mdef\u001b[39;00m \u001b[38;5;21mbuild_batch_request\u001b[39m(\n\u001b[1;32m     61\u001b[0m     \u001b[38;5;28mself\u001b[39m, batch_parameters: Optional[BatchParameters] \u001b[38;5;241m=\u001b[39m \u001b[38;5;28;01mNone\u001b[39;00m\n\u001b[1;32m     62\u001b[0m ) \u001b[38;5;241m-\u001b[39m\u001b[38;5;241m>\u001b[39m BatchRequest[PartitionerT]:\n\u001b[1;32m     63\u001b[0m \u001b[38;5;250m    \u001b[39m\u001b[38;5;124;03m\"\"\"Build a BatchRequest from the asset and batch parameters.\"\"\"\u001b[39;00m\n\u001b[0;32m---> 64\u001b[0m     \u001b[38;5;28;01mreturn\u001b[39;00m \u001b[38;5;28;43mself\u001b[39;49m\u001b[38;5;241;43m.\u001b[39;49m\u001b[43mdata_asset\u001b[49m\u001b[38;5;241;43m.\u001b[39;49m\u001b[43mbuild_batch_request\u001b[49m\u001b[43m(\u001b[49m\n\u001b[1;32m     65\u001b[0m \u001b[43m        \u001b[49m\u001b[43moptions\u001b[49m\u001b[38;5;241;43m=\u001b[39;49m\u001b[43mbatch_parameters\u001b[49m\u001b[43m,\u001b[49m\n\u001b[1;32m     66\u001b[0m \u001b[43m        \u001b[49m\u001b[43mpartitioner\u001b[49m\u001b[38;5;241;43m=\u001b[39;49m\u001b[38;5;28;43mself\u001b[39;49m\u001b[38;5;241;43m.\u001b[39;49m\u001b[43mpartitioner\u001b[49m\u001b[43m,\u001b[49m\n\u001b[1;32m     67\u001b[0m \u001b[43m    \u001b[49m\u001b[43m)\u001b[49m\n",
      "File \u001b[0;32m~/Library/Python/3.9/lib/python/site-packages/great_expectations/datasource/fluent/pandas_datasource.py:406\u001b[0m, in \u001b[0;36mDataFrameAsset.build_batch_request\u001b[0;34m(self, options, batch_slice, partitioner)\u001b[0m\n\u001b[1;32m    400\u001b[0m     \u001b[38;5;28;01mraise\u001b[39;00m BuildBatchRequestError(\n\u001b[1;32m    401\u001b[0m         message\u001b[38;5;241m=\u001b[39m\u001b[38;5;124m\"\u001b[39m\u001b[38;5;124mpartitioner is not currently supported  for this DataAsset\u001b[39m\u001b[38;5;124m\"\u001b[39m\n\u001b[1;32m    402\u001b[0m         \u001b[38;5;124m\"\u001b[39m\u001b[38;5;124mand must be None.\u001b[39m\u001b[38;5;124m\"\u001b[39m\n\u001b[1;32m    403\u001b[0m     )\n\u001b[1;32m    405\u001b[0m \u001b[38;5;28;01mif\u001b[39;00m \u001b[38;5;129;01mnot\u001b[39;00m (options \u001b[38;5;129;01mis\u001b[39;00m \u001b[38;5;129;01mnot\u001b[39;00m \u001b[38;5;28;01mNone\u001b[39;00m \u001b[38;5;129;01mand\u001b[39;00m \u001b[38;5;124m\"\u001b[39m\u001b[38;5;124mdataframe\u001b[39m\u001b[38;5;124m\"\u001b[39m \u001b[38;5;129;01min\u001b[39;00m options \u001b[38;5;129;01mand\u001b[39;00m \u001b[38;5;28mlen\u001b[39m(options) \u001b[38;5;241m==\u001b[39m \u001b[38;5;241m1\u001b[39m):\n\u001b[0;32m--> 406\u001b[0m     \u001b[38;5;28;01mraise\u001b[39;00m BuildBatchRequestError(message\u001b[38;5;241m=\u001b[39m\u001b[38;5;124m\"\u001b[39m\u001b[38;5;124moptions must contain exactly 1 key, \u001b[39m\u001b[38;5;124m'\u001b[39m\u001b[38;5;124mdataframe\u001b[39m\u001b[38;5;124m'\u001b[39m\u001b[38;5;124m.\u001b[39m\u001b[38;5;124m\"\u001b[39m)\n\u001b[1;32m    408\u001b[0m \u001b[38;5;28;01mif\u001b[39;00m \u001b[38;5;129;01mnot\u001b[39;00m \u001b[38;5;28misinstance\u001b[39m(options[\u001b[38;5;124m\"\u001b[39m\u001b[38;5;124mdataframe\u001b[39m\u001b[38;5;124m\"\u001b[39m], pd\u001b[38;5;241m.\u001b[39mDataFrame):\n\u001b[1;32m    409\u001b[0m     \u001b[38;5;28;01mraise\u001b[39;00m BuildBatchRequestError(\n\u001b[1;32m    410\u001b[0m         message\u001b[38;5;241m=\u001b[39m\u001b[38;5;124m\"\u001b[39m\u001b[38;5;124mCannot build batch request for dataframe asset without a dataframe\u001b[39m\u001b[38;5;124m\"\u001b[39m\n\u001b[1;32m    411\u001b[0m     )\n",
      "\u001b[0;31mBuildBatchRequestError\u001b[0m: Bad input to build_batch_request: options must contain exactly 1 key, 'dataframe'."
     ]
    }
   ],
   "source": [
    "'''\n",
    "Crea y ejecuta un punto de comprobación (Checkpoint) para validar los datos basándose en la definición de validación suministrada. \n",
    ".describe() es un método práctico para ver un resumen de los resultados del punto de comprobación.\n",
    "'''\n",
    "\n",
    "checkpoint = context.checkpoints.add(\n",
    "    gx.checkpoint.checkpoint.Checkpoint(\n",
    "        name=\"checkpoint\", validation_definitions=[validation_definition]\n",
    "    )\n",
    ")\n",
    "\n",
    "checkpoint_result = checkpoint.run()\n",
    "print(checkpoint_result.describe())"
   ]
  },
  {
   "cell_type": "code",
   "execution_count": null,
   "metadata": {},
   "outputs": [],
   "source": []
  }
 ],
 "metadata": {
  "kernelspec": {
   "display_name": "Python 3",
   "language": "python",
   "name": "python3"
  },
  "language_info": {
   "codemirror_mode": {
    "name": "ipython",
    "version": 3
   },
   "file_extension": ".py",
   "mimetype": "text/x-python",
   "name": "python",
   "nbconvert_exporter": "python",
   "pygments_lexer": "ipython3",
   "version": "3.9.6"
  }
 },
 "nbformat": 4,
 "nbformat_minor": 2
}
