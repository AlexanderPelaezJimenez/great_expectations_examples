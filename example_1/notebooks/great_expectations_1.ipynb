{
 "cells": [
  {
   "cell_type": "markdown",
   "metadata": {},
   "source": [
    "# Great Expectation for Data Quality and Reliability\n",
    "\n",
    "[enlace](https://medium.com/@elifsinem.aktas/great-expectations-for-data-quality-and-reliability-e9f4c1ee20a5)"
   ]
  },
  {
   "cell_type": "markdown",
   "metadata": {},
   "source": []
  }
 ],
 "metadata": {
  "language_info": {
   "name": "python"
  }
 },
 "nbformat": 4,
 "nbformat_minor": 2
}
